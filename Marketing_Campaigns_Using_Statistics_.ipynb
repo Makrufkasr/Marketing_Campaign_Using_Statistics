{
  "nbformat": 4,
  "nbformat_minor": 0,
  "metadata": {
    "colab": {
      "provenance": [],
      "authorship_tag": "ABX9TyPlCi+09z9lBQWhMCeHgpBU",
      "include_colab_link": true
    },
    "kernelspec": {
      "name": "python3",
      "display_name": "Python 3"
    },
    "language_info": {
      "name": "python"
    }
  },
  "cells": [
    {
      "cell_type": "markdown",
      "metadata": {
        "id": "view-in-github",
        "colab_type": "text"
      },
      "source": [
        "<a href=\"https://colab.research.google.com/github/Makrufkasr/Marketing_Campaign_Using_Statistics/blob/main/Marketing_Campaigns_Using_Statistics_.ipynb\" target=\"_parent\"><img src=\"https://colab.research.google.com/assets/colab-badge.svg\" alt=\"Open In Colab\"/></a>"
      ]
    },
    {
      "cell_type": "markdown",
      "source": [
        "##Marketing Campaign using A/B testing\n",
        "\n",
        "**Background**:\n",
        "\n",
        "\"A fast-food chain plans to add a new item to its menu. However, they are still undecided between three possible marketing campaigns for promoting the new product. In order to determine which promotion has the greatest effect on sales, the new item is introduced at locations in several randomly selected markets. A different promotion is used at each location, and the weekly sales of the new item are recorded for the first four weeks.\"\n",
        "\n",
        "Given this invofmation, by the end of this notebook we will be answering which promotion had a bigger impact in sales.\n",
        "\n",
        "Let's begin by importing the necessary libraries and dataset:"
      ],
      "metadata": {
        "id": "_zR1RkkOHcra"
      }
    },
    {
      "cell_type": "code",
      "execution_count": null,
      "metadata": {
        "id": "hAjZ8WeWd-yR"
      },
      "outputs": [],
      "source": [
        "# Import Libary\n",
        "import pandas as pd # Dataframe\n",
        "import numpy as np # Process and manupulation number\n",
        "import matplotlib.pyplot as plt # Data Visualization\n",
        "import seaborn as sns # Data Visualization\n",
        "import scipy.stats as stats # Statistics\n",
        "import statsmodels.api as sm\n",
        "from statsmodels.formula.api import ols"
      ]
    },
    {
      "cell_type": "code",
      "source": [
        "#Import Dataset\n",
        "marketing_campaign = pd.read_csv('https://docs.google.com/spreadsheets/d/1nCl_evlaMh7maLUMF2Q2sdnYtUfSAwbiu-6pRqHZMIM/export?format=csv&gid=1849995340')\n",
        "marketing_campaign.head()"
      ],
      "metadata": {
        "colab": {
          "base_uri": "https://localhost:8080/",
          "height": 206
        },
        "id": "aM2QzNS_e5_i",
        "outputId": "045d00a7-5b5a-4df7-aca8-e75e77d0ab4c"
      },
      "execution_count": null,
      "outputs": [
        {
          "output_type": "execute_result",
          "data": {
            "text/plain": [
              "   MarketID MarketSize  LocationID  AgeOfStore  Promotion  week  \\\n",
              "0         1     Medium           1           4          3     1   \n",
              "1         1     Medium           1           4          3     2   \n",
              "2         1     Medium           1           4          3     3   \n",
              "3         1     Medium           1           4          3     4   \n",
              "4         1     Medium           2           5          2     1   \n",
              "\n",
              "   SalesInThousands  \n",
              "0             33.73  \n",
              "1             35.67  \n",
              "2             29.03  \n",
              "3             39.25  \n",
              "4             27.81  "
            ],
            "text/html": [
              "\n",
              "  <div id=\"df-d77abf34-ab5a-44e4-9483-bddd4b7b74dc\">\n",
              "    <div class=\"colab-df-container\">\n",
              "      <div>\n",
              "<style scoped>\n",
              "    .dataframe tbody tr th:only-of-type {\n",
              "        vertical-align: middle;\n",
              "    }\n",
              "\n",
              "    .dataframe tbody tr th {\n",
              "        vertical-align: top;\n",
              "    }\n",
              "\n",
              "    .dataframe thead th {\n",
              "        text-align: right;\n",
              "    }\n",
              "</style>\n",
              "<table border=\"1\" class=\"dataframe\">\n",
              "  <thead>\n",
              "    <tr style=\"text-align: right;\">\n",
              "      <th></th>\n",
              "      <th>MarketID</th>\n",
              "      <th>MarketSize</th>\n",
              "      <th>LocationID</th>\n",
              "      <th>AgeOfStore</th>\n",
              "      <th>Promotion</th>\n",
              "      <th>week</th>\n",
              "      <th>SalesInThousands</th>\n",
              "    </tr>\n",
              "  </thead>\n",
              "  <tbody>\n",
              "    <tr>\n",
              "      <th>0</th>\n",
              "      <td>1</td>\n",
              "      <td>Medium</td>\n",
              "      <td>1</td>\n",
              "      <td>4</td>\n",
              "      <td>3</td>\n",
              "      <td>1</td>\n",
              "      <td>33.73</td>\n",
              "    </tr>\n",
              "    <tr>\n",
              "      <th>1</th>\n",
              "      <td>1</td>\n",
              "      <td>Medium</td>\n",
              "      <td>1</td>\n",
              "      <td>4</td>\n",
              "      <td>3</td>\n",
              "      <td>2</td>\n",
              "      <td>35.67</td>\n",
              "    </tr>\n",
              "    <tr>\n",
              "      <th>2</th>\n",
              "      <td>1</td>\n",
              "      <td>Medium</td>\n",
              "      <td>1</td>\n",
              "      <td>4</td>\n",
              "      <td>3</td>\n",
              "      <td>3</td>\n",
              "      <td>29.03</td>\n",
              "    </tr>\n",
              "    <tr>\n",
              "      <th>3</th>\n",
              "      <td>1</td>\n",
              "      <td>Medium</td>\n",
              "      <td>1</td>\n",
              "      <td>4</td>\n",
              "      <td>3</td>\n",
              "      <td>4</td>\n",
              "      <td>39.25</td>\n",
              "    </tr>\n",
              "    <tr>\n",
              "      <th>4</th>\n",
              "      <td>1</td>\n",
              "      <td>Medium</td>\n",
              "      <td>2</td>\n",
              "      <td>5</td>\n",
              "      <td>2</td>\n",
              "      <td>1</td>\n",
              "      <td>27.81</td>\n",
              "    </tr>\n",
              "  </tbody>\n",
              "</table>\n",
              "</div>\n",
              "      <button class=\"colab-df-convert\" onclick=\"convertToInteractive('df-d77abf34-ab5a-44e4-9483-bddd4b7b74dc')\"\n",
              "              title=\"Convert this dataframe to an interactive table.\"\n",
              "              style=\"display:none;\">\n",
              "        \n",
              "  <svg xmlns=\"http://www.w3.org/2000/svg\" height=\"24px\"viewBox=\"0 0 24 24\"\n",
              "       width=\"24px\">\n",
              "    <path d=\"M0 0h24v24H0V0z\" fill=\"none\"/>\n",
              "    <path d=\"M18.56 5.44l.94 2.06.94-2.06 2.06-.94-2.06-.94-.94-2.06-.94 2.06-2.06.94zm-11 1L8.5 8.5l.94-2.06 2.06-.94-2.06-.94L8.5 2.5l-.94 2.06-2.06.94zm10 10l.94 2.06.94-2.06 2.06-.94-2.06-.94-.94-2.06-.94 2.06-2.06.94z\"/><path d=\"M17.41 7.96l-1.37-1.37c-.4-.4-.92-.59-1.43-.59-.52 0-1.04.2-1.43.59L10.3 9.45l-7.72 7.72c-.78.78-.78 2.05 0 2.83L4 21.41c.39.39.9.59 1.41.59.51 0 1.02-.2 1.41-.59l7.78-7.78 2.81-2.81c.8-.78.8-2.07 0-2.86zM5.41 20L4 18.59l7.72-7.72 1.47 1.35L5.41 20z\"/>\n",
              "  </svg>\n",
              "      </button>\n",
              "      \n",
              "  <style>\n",
              "    .colab-df-container {\n",
              "      display:flex;\n",
              "      flex-wrap:wrap;\n",
              "      gap: 12px;\n",
              "    }\n",
              "\n",
              "    .colab-df-convert {\n",
              "      background-color: #E8F0FE;\n",
              "      border: none;\n",
              "      border-radius: 50%;\n",
              "      cursor: pointer;\n",
              "      display: none;\n",
              "      fill: #1967D2;\n",
              "      height: 32px;\n",
              "      padding: 0 0 0 0;\n",
              "      width: 32px;\n",
              "    }\n",
              "\n",
              "    .colab-df-convert:hover {\n",
              "      background-color: #E2EBFA;\n",
              "      box-shadow: 0px 1px 2px rgba(60, 64, 67, 0.3), 0px 1px 3px 1px rgba(60, 64, 67, 0.15);\n",
              "      fill: #174EA6;\n",
              "    }\n",
              "\n",
              "    [theme=dark] .colab-df-convert {\n",
              "      background-color: #3B4455;\n",
              "      fill: #D2E3FC;\n",
              "    }\n",
              "\n",
              "    [theme=dark] .colab-df-convert:hover {\n",
              "      background-color: #434B5C;\n",
              "      box-shadow: 0px 1px 3px 1px rgba(0, 0, 0, 0.15);\n",
              "      filter: drop-shadow(0px 1px 2px rgba(0, 0, 0, 0.3));\n",
              "      fill: #FFFFFF;\n",
              "    }\n",
              "  </style>\n",
              "\n",
              "      <script>\n",
              "        const buttonEl =\n",
              "          document.querySelector('#df-d77abf34-ab5a-44e4-9483-bddd4b7b74dc button.colab-df-convert');\n",
              "        buttonEl.style.display =\n",
              "          google.colab.kernel.accessAllowed ? 'block' : 'none';\n",
              "\n",
              "        async function convertToInteractive(key) {\n",
              "          const element = document.querySelector('#df-d77abf34-ab5a-44e4-9483-bddd4b7b74dc');\n",
              "          const dataTable =\n",
              "            await google.colab.kernel.invokeFunction('convertToInteractive',\n",
              "                                                     [key], {});\n",
              "          if (!dataTable) return;\n",
              "\n",
              "          const docLinkHtml = 'Like what you see? Visit the ' +\n",
              "            '<a target=\"_blank\" href=https://colab.research.google.com/notebooks/data_table.ipynb>data table notebook</a>'\n",
              "            + ' to learn more about interactive tables.';\n",
              "          element.innerHTML = '';\n",
              "          dataTable['output_type'] = 'display_data';\n",
              "          await google.colab.output.renderOutput(dataTable, element);\n",
              "          const docLink = document.createElement('div');\n",
              "          docLink.innerHTML = docLinkHtml;\n",
              "          element.appendChild(docLink);\n",
              "        }\n",
              "      </script>\n",
              "    </div>\n",
              "  </div>\n",
              "  "
            ]
          },
          "metadata": {},
          "execution_count": 2
        }
      ]
    },
    {
      "cell_type": "code",
      "source": [
        "marketing_campaign.shape # to check len rows and columns"
      ],
      "metadata": {
        "colab": {
          "base_uri": "https://localhost:8080/"
        },
        "id": "UXJit86NhThC",
        "outputId": "10ecbbf3-5a8b-4ee6-dc1f-1fd87c44a988"
      },
      "execution_count": null,
      "outputs": [
        {
          "output_type": "execute_result",
          "data": {
            "text/plain": [
              "(548, 7)"
            ]
          },
          "metadata": {},
          "execution_count": 3
        }
      ]
    },
    {
      "cell_type": "code",
      "source": [
        "marketing_campaign.dtypes # Check type of data"
      ],
      "metadata": {
        "colab": {
          "base_uri": "https://localhost:8080/"
        },
        "id": "p8Ti0mfIhzl0",
        "outputId": "5f16c812-fd52-4759-e9d8-f9b0c778cf1b"
      },
      "execution_count": null,
      "outputs": [
        {
          "output_type": "execute_result",
          "data": {
            "text/plain": [
              "MarketID              int64\n",
              "MarketSize           object\n",
              "LocationID            int64\n",
              "AgeOfStore            int64\n",
              "Promotion             int64\n",
              "week                  int64\n",
              "SalesInThousands    float64\n",
              "dtype: object"
            ]
          },
          "metadata": {},
          "execution_count": 4
        }
      ]
    },
    {
      "cell_type": "code",
      "source": [
        "# Check null data each column\n",
        "marketing_campaign.isna(). sum()"
      ],
      "metadata": {
        "colab": {
          "base_uri": "https://localhost:8080/"
        },
        "id": "gacpTE6ziMg5",
        "outputId": "ee20db60-7658-4eaf-b923-b6c2472f8236"
      },
      "execution_count": null,
      "outputs": [
        {
          "output_type": "execute_result",
          "data": {
            "text/plain": [
              "MarketID            0\n",
              "MarketSize          0\n",
              "LocationID          0\n",
              "AgeOfStore          0\n",
              "Promotion           0\n",
              "week                0\n",
              "SalesInThousands    0\n",
              "dtype: int64"
            ]
          },
          "metadata": {},
          "execution_count": 5
        }
      ]
    },
    {
      "cell_type": "markdown",
      "source": [
        "So Far, it looks like there are no null values in each column."
      ],
      "metadata": {
        "id": "1llVSS5lid9k"
      }
    },
    {
      "cell_type": "code",
      "source": [
        "marketing_campaign.duplicated(). sum()"
      ],
      "metadata": {
        "colab": {
          "base_uri": "https://localhost:8080/"
        },
        "id": "JXMUNktMinDn",
        "outputId": "c2f96c30-ea30-4a5a-9c75-8c9e1d083a9e"
      },
      "execution_count": null,
      "outputs": [
        {
          "output_type": "execute_result",
          "data": {
            "text/plain": [
              "0"
            ]
          },
          "metadata": {},
          "execution_count": 6
        }
      ]
    },
    {
      "cell_type": "markdown",
      "source": [
        "Finally, after checking the data type, duplicated data and missing values. The data is ready to be processed for Exploratory Data Analysis."
      ],
      "metadata": {
        "id": "uxh0tHOPjUIX"
      }
    },
    {
      "cell_type": "code",
      "source": [
        "marketing_campaign.nunique()"
      ],
      "metadata": {
        "colab": {
          "base_uri": "https://localhost:8080/"
        },
        "id": "ft7YbX0CjYak",
        "outputId": "b2ff3edd-e64a-469f-c205-1e5baa7e84fb"
      },
      "execution_count": null,
      "outputs": [
        {
          "output_type": "execute_result",
          "data": {
            "text/plain": [
              "MarketID             10\n",
              "MarketSize            3\n",
              "LocationID          137\n",
              "AgeOfStore           25\n",
              "Promotion             3\n",
              "week                  4\n",
              "SalesInThousands    517\n",
              "dtype: int64"
            ]
          },
          "metadata": {},
          "execution_count": 7
        }
      ]
    },
    {
      "cell_type": "markdown",
      "source": [
        "## Exploratory Data Analysis"
      ],
      "metadata": {
        "id": "Z6bGl3wKjmqR"
      }
    },
    {
      "cell_type": "code",
      "source": [
        "ax = marketing_campaign.groupby(\n",
        "    'Promotion'\n",
        ").sum()[\n",
        "    'SalesInThousands'\n",
        "].plot.pie(\n",
        "    figsize=(7, 7),\n",
        "    autopct='%1.0f%%'\n",
        ")\n",
        "prom = ['Promotion 1', 'Promotion 2', 'Promotion 3']\n",
        "ax.set_ylabel('')\n",
        "ax.set_title('Persebaran Penjualan di Setiap Promosi')\n",
        "plt.legend(prom, loc=\"upper right\")\n",
        "\n",
        "plt.show()"
      ],
      "metadata": {
        "colab": {
          "base_uri": "https://localhost:8080/",
          "height": 427
        },
        "id": "_J9u2C2Qjq5I",
        "outputId": "b0136722-aa43-4af2-8b9f-ae299ad7eea3"
      },
      "execution_count": null,
      "outputs": [
        {
          "output_type": "display_data",
          "data": {
            "text/plain": [
              "<Figure size 504x504 with 1 Axes>"
            ],
            "image/png": "[encoded data removed]"
          },
          "metadata": {}
        }
      ]
    },
    {
      "cell_type": "markdown",
      "source": [
        "**Insight:**\n",
        "\n",
        "Based on the pie chart above, it shows that the highest proportion of sales is in promotion 3 and promotion 1. Sales using promotion 2 are the lowest."
      ],
      "metadata": {
        "id": "RV4HKgo_Iw7g"
      }
    },
    {
      "cell_type": "code",
      "source": [
        "# Total promotion in each promotion\n",
        "count = pd.DataFrame(marketing_campaign.groupby(['Promotion'])['Promotion'].count())\n",
        "count.rename(columns = {'Promotion': 'Count'}, inplace = True)\n",
        "count.reset_index(inplace = True)\n",
        "count"
      ],
      "metadata": {
        "colab": {
          "base_uri": "https://localhost:8080/",
          "height": 143
        },
        "id": "w_7rZ5k81nFH",
        "outputId": "27e4cad3-4129-47c0-a677-4c1dce0ea423"
      },
      "execution_count": null,
      "outputs": [
        {
          "output_type": "execute_result",
          "data": {
            "text/plain": [
              "   Promotion  Count\n",
              "0          1    172\n",
              "1          2    188\n",
              "2          3    188"
            ],
            "text/html": [
              "\n",
              "  <div id=\"df-9c3c2767-176a-4c2f-85d6-b22862139fa5\">\n",
              "    <div class=\"colab-df-container\">\n",
              "      <div>\n",
              "<style scoped>\n",
              "    .dataframe tbody tr th:only-of-type {\n",
              "        vertical-align: middle;\n",
              "    }\n",
              "\n",
              "    .dataframe tbody tr th {\n",
              "        vertical-align: top;\n",
              "    }\n",
              "\n",
              "    .dataframe thead th {\n",
              "        text-align: right;\n",
              "    }\n",
              "</style>\n",
              "<table border=\"1\" class=\"dataframe\">\n",
              "  <thead>\n",
              "    <tr style=\"text-align: right;\">\n",
              "      <th></th>\n",
              "      <th>Promotion</th>\n",
              "      <th>Count</th>\n",
              "    </tr>\n",
              "  </thead>\n",
              "  <tbody>\n",
              "    <tr>\n",
              "      <th>0</th>\n",
              "      <td>1</td>\n",
              "      <td>172</td>\n",
              "    </tr>\n",
              "    <tr>\n",
              "      <th>1</th>\n",
              "      <td>2</td>\n",
              "      <td>188</td>\n",
              "    </tr>\n",
              "    <tr>\n",
              "      <th>2</th>\n",
              "      <td>3</td>\n",
              "      <td>188</td>\n",
              "    </tr>\n",
              "  </tbody>\n",
              "</table>\n",
              "</div>\n",
              "      <button class=\"colab-df-convert\" onclick=\"convertToInteractive('df-9c3c2767-176a-4c2f-85d6-b22862139fa5')\"\n",
              "              title=\"Convert this dataframe to an interactive table.\"\n",
              "              style=\"display:none;\">\n",
              "        \n",
              "  <svg xmlns=\"http://www.w3.org/2000/svg\" height=\"24px\"viewBox=\"0 0 24 24\"\n",
              "       width=\"24px\">\n",
              "    <path d=\"M0 0h24v24H0V0z\" fill=\"none\"/>\n",
              "    <path d=\"M18.56 5.44l.94 2.06.94-2.06 2.06-.94-2.06-.94-.94-2.06-.94 2.06-2.06.94zm-11 1L8.5 8.5l.94-2.06 2.06-.94-2.06-.94L8.5 2.5l-.94 2.06-2.06.94zm10 10l.94 2.06.94-2.06 2.06-.94-2.06-.94-.94-2.06-.94 2.06-2.06.94z\"/><path d=\"M17.41 7.96l-1.37-1.37c-.4-.4-.92-.59-1.43-.59-.52 0-1.04.2-1.43.59L10.3 9.45l-7.72 7.72c-.78.78-.78 2.05 0 2.83L4 21.41c.39.39.9.59 1.41.59.51 0 1.02-.2 1.41-.59l7.78-7.78 2.81-2.81c.8-.78.8-2.07 0-2.86zM5.41 20L4 18.59l7.72-7.72 1.47 1.35L5.41 20z\"/>\n",
              "  </svg>\n",
              "      </button>\n",
              "      \n",
              "  <style>\n",
              "    .colab-df-container {\n",
              "      display:flex;\n",
              "      flex-wrap:wrap;\n",
              "      gap: 12px;\n",
              "    }\n",
              "\n",
              "    .colab-df-convert {\n",
              "      background-color: #E8F0FE;\n",
              "      border: none;\n",
              "      border-radius: 50%;\n",
              "      cursor: pointer;\n",
              "      display: none;\n",
              "      fill: #1967D2;\n",
              "      height: 32px;\n",
              "      padding: 0 0 0 0;\n",
              "      width: 32px;\n",
              "    }\n",
              "\n",
              "    .colab-df-convert:hover {\n",
              "      background-color: #E2EBFA;\n",
              "      box-shadow: 0px 1px 2px rgba(60, 64, 67, 0.3), 0px 1px 3px 1px rgba(60, 64, 67, 0.15);\n",
              "      fill: #174EA6;\n",
              "    }\n",
              "\n",
              "    [theme=dark] .colab-df-convert {\n",
              "      background-color: #3B4455;\n",
              "      fill: #D2E3FC;\n",
              "    }\n",
              "\n",
              "    [theme=dark] .colab-df-convert:hover {\n",
              "      background-color: #434B5C;\n",
              "      box-shadow: 0px 1px 3px 1px rgba(0, 0, 0, 0.15);\n",
              "      filter: drop-shadow(0px 1px 2px rgba(0, 0, 0, 0.3));\n",
              "      fill: #FFFFFF;\n",
              "    }\n",
              "  </style>\n",
              "\n",
              "      <script>\n",
              "        const buttonEl =\n",
              "          document.querySelector('#df-9c3c2767-176a-4c2f-85d6-b22862139fa5 button.colab-df-convert');\n",
              "        buttonEl.style.display =\n",
              "          google.colab.kernel.accessAllowed ? 'block' : 'none';\n",
              "\n",
              "        async function convertToInteractive(key) {\n",
              "          const element = document.querySelector('#df-9c3c2767-176a-4c2f-85d6-b22862139fa5');\n",
              "          const dataTable =\n",
              "            await google.colab.kernel.invokeFunction('convertToInteractive',\n",
              "                                                     [key], {});\n",
              "          if (!dataTable) return;\n",
              "\n",
              "          const docLinkHtml = 'Like what you see? Visit the ' +\n",
              "            '<a target=\"_blank\" href=https://colab.research.google.com/notebooks/data_table.ipynb>data table notebook</a>'\n",
              "            + ' to learn more about interactive tables.';\n",
              "          element.innerHTML = '';\n",
              "          dataTable['output_type'] = 'display_data';\n",
              "          await google.colab.output.renderOutput(dataTable, element);\n",
              "          const docLink = document.createElement('div');\n",
              "          docLink.innerHTML = docLinkHtml;\n",
              "          element.appendChild(docLink);\n",
              "        }\n",
              "      </script>\n",
              "    </div>\n",
              "  </div>\n",
              "  "
            ]
          },
          "metadata": {},
          "execution_count": 9
        }
      ]
    },
    {
      "cell_type": "code",
      "source": [
        "fig, [ax, ax2] = plt.subplots(2, 1, figsize = (5, 8))\n",
        "\n",
        "sns.barplot(y = 'Count', \n",
        "            x = 'Promotion', \n",
        "            data = count,\n",
        "            ax = ax)\n",
        "\n",
        "for container in ax.containers:\n",
        "    ax.bar_label(container)\n",
        "ax.set_title('Number of Promotions')\n",
        "\n",
        "sns.boxplot(y = 'SalesInThousands',\n",
        "            x = 'Promotion',\n",
        "            data = marketing_campaign,\n",
        "            showmeans = True,\n",
        "            meanprops = {'markerfacecolor': 'white',\n",
        "                         'markeredgecolor': 'black',\n",
        "                         'marker' : 'o'},\n",
        "            ax = ax2)\n",
        "ax2.set_title('Distribution of Sales (K)')\n",
        "fig.subplots_adjust(hspace = 0.3)"
      ],
      "metadata": {
        "colab": {
          "base_uri": "https://localhost:8080/",
          "height": 513
        },
        "id": "25-3nBW10RRz",
        "outputId": "edc12993-d082-48d7-eaaa-73ef80f4a7b4"
      },
      "execution_count": null,
      "outputs": [
        {
          "output_type": "display_data",
          "data": {
            "text/plain": [
              "<Figure size 360x576 with 2 Axes>"
            ],
            "image/png": "[encoded data removed]"
          },
          "metadata": {
            "needs_background": "light"
          }
        }
      ]
    },
    {
      "cell_type": "markdown",
      "source": [
        "In the boxplots, it can be seen that the distribution of sales with promotions 1 and 3 is higher. Also, the white dot in each boxplot represents the average, which is also higher with promotions 1 and 3.\n",
        "\n",
        "Let's do the same but use Market Size as well, to see if there is any difference between the two."
      ],
      "metadata": {
        "id": "1ep0hepqR79t"
      }
    },
    {
      "cell_type": "markdown",
      "source": [
        "## Market Size"
      ],
      "metadata": {
        "id": "6y-nWSQrxwKK"
      }
    },
    {
      "cell_type": "code",
      "source": [
        "marketing_campaign.groupby('MarketSize').count()['MarketID']"
      ],
      "metadata": {
        "colab": {
          "base_uri": "https://localhost:8080/"
        },
        "id": "Eu6YRXYqxp-t",
        "outputId": "2060c334-40aa-4f97-d0fb-cd20add38f03"
      },
      "execution_count": null,
      "outputs": [
        {
          "output_type": "execute_result",
          "data": {
            "text/plain": [
              "MarketSize\n",
              "Large     168\n",
              "Medium    320\n",
              "Small      60\n",
              "Name: MarketID, dtype: int64"
            ]
          },
          "metadata": {},
          "execution_count": 11
        }
      ]
    },
    {
      "cell_type": "markdown",
      "source": [
        "The medium market still dominates with the highest number of market ids of 320 and the smallest is the small market with 60 market ids."
      ],
      "metadata": {
        "id": "CruvYGVLPDEh"
      }
    },
    {
      "cell_type": "code",
      "source": [
        "count2 = pd.DataFrame(marketing_campaign.groupby(['MarketSize', 'Promotion'])['Promotion'].count())\n",
        "count2.rename(columns = {'Promotion': 'Count'}, inplace = True)\n",
        "count2.reset_index(inplace = True)\n",
        "\n",
        "fig, [ax, ax2] = plt.subplots(2, 1, figsize = (10, 10))\n",
        "\n",
        "sns.barplot(y = 'Count', \n",
        "            x = 'MarketSize',\n",
        "            hue = 'Promotion',\n",
        "            data = count2,\n",
        "            order = ['Small', 'Medium', 'Large'],\n",
        "            ax = ax)\n",
        "\n",
        "for container in ax.containers:\n",
        "    ax.bar_label(container)\n",
        "ax.set_title('Number of Promotions')\n",
        "\n",
        "sns.boxplot(y = 'SalesInThousands',\n",
        "            x = 'MarketSize',\n",
        "            hue = 'Promotion',\n",
        "            data = marketing_campaign,\n",
        "            order = ['Small', 'Medium', 'Large'],\n",
        "            showmeans = True,\n",
        "            meanprops = {'markerfacecolor': 'white',\n",
        "                         'markeredgecolor': 'black',\n",
        "                         'marker' : 'o'},\n",
        "            ax = ax2)\n",
        "ax2.set_title('Distribution of Sales (K)')\n",
        "fig.subplots_adjust(hspace = 0.3)"
      ],
      "metadata": {
        "colab": {
          "base_uri": "https://localhost:8080/",
          "height": 622
        },
        "id": "ZOetdSgBQiq9",
        "outputId": "0cd61ff5-5c90-4dff-c6e8-ae711de8a872"
      },
      "execution_count": null,
      "outputs": [
        {
          "output_type": "display_data",
          "data": {
            "text/plain": [
              "<Figure size 720x720 with 2 Axes>"
            ],
            "image/png": "[encoded data removed]"
          },
          "metadata": {
            "needs_background": "light"
          }
        }
      ]
    },
    {
      "cell_type": "markdown",
      "source": [
        "Apparently the same thing is happening all over the market. This already gives us a hint of where we are going:\n",
        "\n",
        "Promotions 1 and 3 seem to increase average sales, while promotion 2 doesn't seem to be as efficient.\n",
        "\n",
        "Thus just looking at the Box Splot may not really answer for sure. To gain more ground in our conclusions, we can perform an ANOVA test, which will tell us if the average difference between promotions is statistically significant."
      ],
      "metadata": {
        "id": "1nfSOPb7T5t6"
      }
    },
    {
      "cell_type": "markdown",
      "source": [
        "## Signifikan Test\n",
        "\n",
        "Now it's time for the significant test. To investigate which campaign worked best, we used a t-test. What exactly does a t-test do? Simply put, it looks to see if the mean values of two groups are significantly different. Let's look at the average sales figures broken down by campaign."
      ],
      "metadata": {
        "id": "7do-7gG0U15G"
      }
    },
    {
      "cell_type": "code",
      "source": [
        "means = marketing_campaign.groupby('Promotion').mean()['SalesInThousands']\n",
        "means"
      ],
      "metadata": {
        "colab": {
          "base_uri": "https://localhost:8080/"
        },
        "id": "jWRDgM053Mhc",
        "outputId": "c8caf631-fb2d-4e96-b002-c54c73bd2548"
      },
      "execution_count": null,
      "outputs": [
        {
          "output_type": "execute_result",
          "data": {
            "text/plain": [
              "Promotion\n",
              "1    58.099012\n",
              "2    47.329415\n",
              "3    55.364468\n",
              "Name: SalesInThousands, dtype: float64"
            ]
          },
          "metadata": {},
          "execution_count": 25
        }
      ]
    },
    {
      "cell_type": "markdown",
      "source": [
        "The mean value is different. But is this difference also significant? This question can be answered with a t-test. For this I used the t-test function from the scipy library.\n",
        "\n",
        "There are two important statistics in the t-test, the t-value and the p-value.\n",
        "\n",
        "The t-value measures the degree of difference relative to the variation in the data. The larger the t-value, the greater the difference between the two groups.\n",
        "\n",
        "On the other hand, the p-value measures the probability that the result will appear by chance. The smaller the p-value, the more statistically significant the difference between the two groups."
      ],
      "metadata": {
        "id": "-nnCp0KYVWN3"
      }
    },
    {
      "cell_type": "code",
      "source": [
        "t, p = stats.ttest_ind(\n",
        "    marketing_campaign.loc[marketing_campaign['Promotion'] == 1, 'SalesInThousands'].values, \n",
        "    marketing_campaign.loc[marketing_campaign['Promotion'] == 2, 'SalesInThousands'].values, \n",
        "    equal_var=False\n",
        ")\n",
        "print(\"t-Value: \" + str('{:.3f}'.format(t)))\n",
        "print(\"p-Value: \" + str('{:.3f}'.format(p)))\n"
      ],
      "metadata": {
        "colab": {
          "base_uri": "https://localhost:8080/"
        },
        "id": "vqzp-QKu4CyS",
        "outputId": "afc2c897-940a-4f84-9a8b-1d087bc7daa9"
      },
      "execution_count": null,
      "outputs": [
        {
          "output_type": "stream",
          "name": "stdout",
          "text": [
            "t-Value: 6.428\n",
            "p-Value: 0.000\n"
          ]
        }
      ]
    },
    {
      "cell_type": "markdown",
      "source": [
        "Promotion 1 vs Promotion 3"
      ],
      "metadata": {
        "id": "YTIKUFVkFzEi"
      }
    },
    {
      "cell_type": "code",
      "source": [
        "t, p = stats.ttest_ind(\n",
        "    marketing_campaign.loc[marketing_campaign['Promotion'] == 1, 'SalesInThousands'].values, \n",
        "    marketing_campaign.loc[marketing_campaign['Promotion'] == 3, 'SalesInThousands'].values, \n",
        "    equal_var=False\n",
        ")\n",
        "print(\"t-Value: \" + str('{:.3f}'.format(t)))\n",
        "print(\"p-Value: \" + str('{:.3f}'.format(p)))"
      ],
      "metadata": {
        "colab": {
          "base_uri": "https://localhost:8080/"
        },
        "id": "NWeAu9Ba4c6N",
        "outputId": "301aa577-1a40-44a6-ad71-1b7d2c510275"
      },
      "execution_count": null,
      "outputs": [
        {
          "output_type": "stream",
          "name": "stdout",
          "text": [
            "t-Value: 1.556\n",
            "p-Value: 0.121\n"
          ]
        }
      ]
    },
    {
      "cell_type": "markdown",
      "source": [
        "Promotion 2 vs Promotion 3"
      ],
      "metadata": {
        "id": "XremIWh8GCGT"
      }
    },
    {
      "cell_type": "code",
      "source": [
        "t, p = stats.ttest_ind(\n",
        "    marketing_campaign.loc[marketing_campaign['Promotion'] == 2, 'SalesInThousands'].values, \n",
        "    marketing_campaign.loc[marketing_campaign['Promotion'] == 3, 'SalesInThousands'].values, \n",
        "    equal_var=False\n",
        ")\n",
        "print(\"t-Value: \" + str('{:.3f}'.format(t)))\n",
        "print(\"p-Value: \" + str('{:.3f}'.format(p)))"
      ],
      "metadata": {
        "colab": {
          "base_uri": "https://localhost:8080/"
        },
        "id": "w1-kRfMd5X1W",
        "outputId": "9b3921af-1c66-4289-cb18-00e82f1d22b8"
      },
      "execution_count": null,
      "outputs": [
        {
          "output_type": "stream",
          "name": "stdout",
          "text": [
            "t-Value: -4.881\n",
            "p-Value: 0.000\n"
          ]
        }
      ]
    },
    {
      "cell_type": "markdown",
      "source": [
        "Insight!\n",
        "\n",
        "As we can see from the p-value, the average value of sales figures on promotions 1 and 3 is not significantly different. But the difference between promotion 1 and 2 is as good as promotion 2 vs 3. If you look at the corresponding t-value, you can say that promotion 1 and 3 are better than promotion 2."
      ],
      "metadata": {
        "id": "NXiRC2jfG21n"
      }
    }
  ]
}